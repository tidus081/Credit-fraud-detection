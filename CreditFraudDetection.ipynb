{
 "cells": [
  {
   "cell_type": "markdown",
   "metadata": {},
   "source": [
    "## Credit fraud dectection using ML algorithms"
   ]
  },
  {
   "cell_type": "markdown",
   "metadata": {},
   "source": [
    "## - Data preprocessing -"
   ]
  },
  {
   "cell_type": "code",
   "execution_count": 2,
   "metadata": {},
   "outputs": [
    {
     "data": {
      "text/html": [
       "<table>\n",
       "<thead><tr><th scope=col>V1</th><th scope=col>V2</th><th scope=col>V3</th><th scope=col>V4</th><th scope=col>V5</th><th scope=col>V6</th><th scope=col>V7</th><th scope=col>V8</th><th scope=col>V9</th><th scope=col>V10</th><th scope=col>...</th><th scope=col>V21</th><th scope=col>V22</th><th scope=col>V23</th><th scope=col>V24</th><th scope=col>V25</th><th scope=col>V26</th><th scope=col>V27</th><th scope=col>V28</th><th scope=col>Amount</th><th scope=col>Class</th></tr></thead>\n",
       "<tbody>\n",
       "\t<tr><td>-1.3598071  </td><td>-0.07278117 </td><td>2.5363467   </td><td> 1.3781552  </td><td>-0.33832077 </td><td> 0.46238778 </td><td> 0.23959855 </td><td> 0.09869790 </td><td> 0.3637870  </td><td> 0.09079417 </td><td>...         </td><td>-0.018306778</td><td> 0.277837576</td><td>-0.11047391 </td><td> 0.06692807 </td><td> 0.1285394  </td><td>-0.1891148  </td><td> 0.133558377</td><td>-0.02105305 </td><td>149.62      </td><td>0           </td></tr>\n",
       "\t<tr><td> 1.1918571  </td><td> 0.26615071 </td><td>0.1664801   </td><td> 0.4481541  </td><td> 0.06001765 </td><td>-0.08236081 </td><td>-0.07880298 </td><td> 0.08510165 </td><td>-0.2554251  </td><td>-0.16697441 </td><td>...         </td><td>-0.225775248</td><td>-0.638671953</td><td> 0.10128802 </td><td>-0.33984648 </td><td> 0.1671704  </td><td> 0.1258945  </td><td>-0.008983099</td><td> 0.01472417 </td><td>  2.69      </td><td>0           </td></tr>\n",
       "\t<tr><td>-1.3583541  </td><td>-1.34016307 </td><td>1.7732093   </td><td> 0.3797796  </td><td>-0.50319813 </td><td> 1.80049938 </td><td> 0.79146096 </td><td> 0.24767579 </td><td>-1.5146543  </td><td> 0.20764287 </td><td>...         </td><td> 0.247998153</td><td> 0.771679402</td><td> 0.90941226 </td><td>-0.68928096 </td><td>-0.3276418  </td><td>-0.1390966  </td><td>-0.055352794</td><td>-0.05975184 </td><td>378.66      </td><td>0           </td></tr>\n",
       "\t<tr><td>-0.9662717  </td><td>-0.18522601 </td><td>1.7929933   </td><td>-0.8632913  </td><td>-0.01030888 </td><td> 1.24720317 </td><td> 0.23760894 </td><td> 0.37743587 </td><td>-1.3870241  </td><td>-0.05495192 </td><td>...         </td><td>-0.108300452</td><td> 0.005273597</td><td>-0.19032052 </td><td>-1.17557533 </td><td> 0.6473760  </td><td>-0.2219288  </td><td> 0.062722849</td><td> 0.06145763 </td><td>123.50      </td><td>0           </td></tr>\n",
       "\t<tr><td>-1.1582331  </td><td> 0.87773675 </td><td>1.5487178   </td><td> 0.4030339  </td><td>-0.40719338 </td><td> 0.09592146 </td><td> 0.59294075 </td><td>-0.27053268 </td><td> 0.8177393  </td><td> 0.75307443 </td><td>...         </td><td>-0.009430697</td><td> 0.798278495</td><td>-0.13745808 </td><td> 0.14126698 </td><td>-0.2060096  </td><td> 0.5022922  </td><td> 0.219422230</td><td> 0.21515315 </td><td> 69.99      </td><td>0           </td></tr>\n",
       "\t<tr><td>-0.4259659  </td><td> 0.96052304 </td><td>1.1411093   </td><td>-0.1682521  </td><td> 0.42098688 </td><td>-0.02972755 </td><td> 0.47620095 </td><td> 0.26031433 </td><td>-0.5686714  </td><td>-0.37140720 </td><td>...         </td><td>-0.208253515</td><td>-0.559824796</td><td>-0.02639767 </td><td>-0.37142658 </td><td>-0.2327938  </td><td> 0.1059148  </td><td> 0.253844225</td><td> 0.08108026 </td><td>  3.67      </td><td>0           </td></tr>\n",
       "</tbody>\n",
       "</table>\n"
      ],
      "text/latex": [
       "\\begin{tabular}{r|llllllllllllllllllllllllllllll}\n",
       " V1 & V2 & V3 & V4 & V5 & V6 & V7 & V8 & V9 & V10 & ... & V21 & V22 & V23 & V24 & V25 & V26 & V27 & V28 & Amount & Class\\\\\n",
       "\\hline\n",
       "\t -1.3598071   & -0.07278117  & 2.5363467    &  1.3781552   & -0.33832077  &  0.46238778  &  0.23959855  &  0.09869790  &  0.3637870   &  0.09079417  & ...          & -0.018306778 &  0.277837576 & -0.11047391  &  0.06692807  &  0.1285394   & -0.1891148   &  0.133558377 & -0.02105305  & 149.62       & 0           \\\\\n",
       "\t  1.1918571   &  0.26615071  & 0.1664801    &  0.4481541   &  0.06001765  & -0.08236081  & -0.07880298  &  0.08510165  & -0.2554251   & -0.16697441  & ...          & -0.225775248 & -0.638671953 &  0.10128802  & -0.33984648  &  0.1671704   &  0.1258945   & -0.008983099 &  0.01472417  &   2.69       & 0           \\\\\n",
       "\t -1.3583541   & -1.34016307  & 1.7732093    &  0.3797796   & -0.50319813  &  1.80049938  &  0.79146096  &  0.24767579  & -1.5146543   &  0.20764287  & ...          &  0.247998153 &  0.771679402 &  0.90941226  & -0.68928096  & -0.3276418   & -0.1390966   & -0.055352794 & -0.05975184  & 378.66       & 0           \\\\\n",
       "\t -0.9662717   & -0.18522601  & 1.7929933    & -0.8632913   & -0.01030888  &  1.24720317  &  0.23760894  &  0.37743587  & -1.3870241   & -0.05495192  & ...          & -0.108300452 &  0.005273597 & -0.19032052  & -1.17557533  &  0.6473760   & -0.2219288   &  0.062722849 &  0.06145763  & 123.50       & 0           \\\\\n",
       "\t -1.1582331   &  0.87773675  & 1.5487178    &  0.4030339   & -0.40719338  &  0.09592146  &  0.59294075  & -0.27053268  &  0.8177393   &  0.75307443  & ...          & -0.009430697 &  0.798278495 & -0.13745808  &  0.14126698  & -0.2060096   &  0.5022922   &  0.219422230 &  0.21515315  &  69.99       & 0           \\\\\n",
       "\t -0.4259659   &  0.96052304  & 1.1411093    & -0.1682521   &  0.42098688  & -0.02972755  &  0.47620095  &  0.26031433  & -0.5686714   & -0.37140720  & ...          & -0.208253515 & -0.559824796 & -0.02639767  & -0.37142658  & -0.2327938   &  0.1059148   &  0.253844225 &  0.08108026  &   3.67       & 0           \\\\\n",
       "\\end{tabular}\n"
      ],
      "text/markdown": [
       "\n",
       "V1 | V2 | V3 | V4 | V5 | V6 | V7 | V8 | V9 | V10 | ... | V21 | V22 | V23 | V24 | V25 | V26 | V27 | V28 | Amount | Class | \n",
       "|---|---|---|---|---|---|\n",
       "| -1.3598071   | -0.07278117  | 2.5363467    |  1.3781552   | -0.33832077  |  0.46238778  |  0.23959855  |  0.09869790  |  0.3637870   |  0.09079417  | ...          | -0.018306778 |  0.277837576 | -0.11047391  |  0.06692807  |  0.1285394   | -0.1891148   |  0.133558377 | -0.02105305  | 149.62       | 0            | \n",
       "|  1.1918571   |  0.26615071  | 0.1664801    |  0.4481541   |  0.06001765  | -0.08236081  | -0.07880298  |  0.08510165  | -0.2554251   | -0.16697441  | ...          | -0.225775248 | -0.638671953 |  0.10128802  | -0.33984648  |  0.1671704   |  0.1258945   | -0.008983099 |  0.01472417  |   2.69       | 0            | \n",
       "| -1.3583541   | -1.34016307  | 1.7732093    |  0.3797796   | -0.50319813  |  1.80049938  |  0.79146096  |  0.24767579  | -1.5146543   |  0.20764287  | ...          |  0.247998153 |  0.771679402 |  0.90941226  | -0.68928096  | -0.3276418   | -0.1390966   | -0.055352794 | -0.05975184  | 378.66       | 0            | \n",
       "| -0.9662717   | -0.18522601  | 1.7929933    | -0.8632913   | -0.01030888  |  1.24720317  |  0.23760894  |  0.37743587  | -1.3870241   | -0.05495192  | ...          | -0.108300452 |  0.005273597 | -0.19032052  | -1.17557533  |  0.6473760   | -0.2219288   |  0.062722849 |  0.06145763  | 123.50       | 0            | \n",
       "| -1.1582331   |  0.87773675  | 1.5487178    |  0.4030339   | -0.40719338  |  0.09592146  |  0.59294075  | -0.27053268  |  0.8177393   |  0.75307443  | ...          | -0.009430697 |  0.798278495 | -0.13745808  |  0.14126698  | -0.2060096   |  0.5022922   |  0.219422230 |  0.21515315  |  69.99       | 0            | \n",
       "| -0.4259659   |  0.96052304  | 1.1411093    | -0.1682521   |  0.42098688  | -0.02972755  |  0.47620095  |  0.26031433  | -0.5686714   | -0.37140720  | ...          | -0.208253515 | -0.559824796 | -0.02639767  | -0.37142658  | -0.2327938   |  0.1059148   |  0.253844225 |  0.08108026  |   3.67       | 0            | \n",
       "\n",
       "\n"
      ],
      "text/plain": [
       "  V1         V2          V3        V4         V5          V6         \n",
       "1 -1.3598071 -0.07278117 2.5363467  1.3781552 -0.33832077  0.46238778\n",
       "2  1.1918571  0.26615071 0.1664801  0.4481541  0.06001765 -0.08236081\n",
       "3 -1.3583541 -1.34016307 1.7732093  0.3797796 -0.50319813  1.80049938\n",
       "4 -0.9662717 -0.18522601 1.7929933 -0.8632913 -0.01030888  1.24720317\n",
       "5 -1.1582331  0.87773675 1.5487178  0.4030339 -0.40719338  0.09592146\n",
       "6 -0.4259659  0.96052304 1.1411093 -0.1682521  0.42098688 -0.02972755\n",
       "  V7          V8          V9         V10         ... V21          V22         \n",
       "1  0.23959855  0.09869790  0.3637870  0.09079417 ... -0.018306778  0.277837576\n",
       "2 -0.07880298  0.08510165 -0.2554251 -0.16697441 ... -0.225775248 -0.638671953\n",
       "3  0.79146096  0.24767579 -1.5146543  0.20764287 ...  0.247998153  0.771679402\n",
       "4  0.23760894  0.37743587 -1.3870241 -0.05495192 ... -0.108300452  0.005273597\n",
       "5  0.59294075 -0.27053268  0.8177393  0.75307443 ... -0.009430697  0.798278495\n",
       "6  0.47620095  0.26031433 -0.5686714 -0.37140720 ... -0.208253515 -0.559824796\n",
       "  V23         V24         V25        V26        V27          V28         Amount\n",
       "1 -0.11047391  0.06692807  0.1285394 -0.1891148  0.133558377 -0.02105305 149.62\n",
       "2  0.10128802 -0.33984648  0.1671704  0.1258945 -0.008983099  0.01472417   2.69\n",
       "3  0.90941226 -0.68928096 -0.3276418 -0.1390966 -0.055352794 -0.05975184 378.66\n",
       "4 -0.19032052 -1.17557533  0.6473760 -0.2219288  0.062722849  0.06145763 123.50\n",
       "5 -0.13745808  0.14126698 -0.2060096  0.5022922  0.219422230  0.21515315  69.99\n",
       "6 -0.02639767 -0.37142658 -0.2327938  0.1059148  0.253844225  0.08108026   3.67\n",
       "  Class\n",
       "1 0    \n",
       "2 0    \n",
       "3 0    \n",
       "4 0    \n",
       "5 0    \n",
       "6 0    "
      ]
     },
     "metadata": {},
     "output_type": "display_data"
    }
   ],
   "source": [
    "# Importing the dataset\n",
    "dataset2 = read.csv('D://R/creditcard.csv')\n",
    "dataset2 = dataset2[2:31]\n",
    "head(dataset2)"
   ]
  },
  {
   "cell_type": "code",
   "execution_count": 4,
   "metadata": {},
   "outputs": [
    {
     "data": {
      "text/html": [
       "<table>\n",
       "<thead><tr><th scope=col>v1</th><th scope=col>v2</th><th scope=col>Class</th></tr></thead>\n",
       "<tbody>\n",
       "\t<tr><td>0.001802549  </td><td>-0.0017635885</td><td>0            </td></tr>\n",
       "\t<tr><td>0.001622308  </td><td>-0.0007884368</td><td>0            </td></tr>\n",
       "\t<tr><td>0.002083457  </td><td>-0.0051089810</td><td>0            </td></tr>\n",
       "\t<tr><td>0.001770326  </td><td>-0.0073079124</td><td>0            </td></tr>\n",
       "\t<tr><td>0.001704831  </td><td>-0.0023091477</td><td>0            </td></tr>\n",
       "\t<tr><td>0.001623557  </td><td> 0.0007012727</td><td>0            </td></tr>\n",
       "</tbody>\n",
       "</table>\n"
      ],
      "text/latex": [
       "\\begin{tabular}{r|lll}\n",
       " v1 & v2 & Class\\\\\n",
       "\\hline\n",
       "\t 0.001802549   & -0.0017635885 & 0            \\\\\n",
       "\t 0.001622308   & -0.0007884368 & 0            \\\\\n",
       "\t 0.002083457   & -0.0051089810 & 0            \\\\\n",
       "\t 0.001770326   & -0.0073079124 & 0            \\\\\n",
       "\t 0.001704831   & -0.0023091477 & 0            \\\\\n",
       "\t 0.001623557   &  0.0007012727 & 0            \\\\\n",
       "\\end{tabular}\n"
      ],
      "text/markdown": [
       "\n",
       "v1 | v2 | Class | \n",
       "|---|---|---|---|---|---|\n",
       "| 0.001802549   | -0.0017635885 | 0             | \n",
       "| 0.001622308   | -0.0007884368 | 0             | \n",
       "| 0.002083457   | -0.0051089810 | 0             | \n",
       "| 0.001770326   | -0.0073079124 | 0             | \n",
       "| 0.001704831   | -0.0023091477 | 0             | \n",
       "| 0.001623557   |  0.0007012727 | 0             | \n",
       "\n",
       "\n"
      ],
      "text/plain": [
       "  v1          v2            Class\n",
       "1 0.001802549 -0.0017635885 0    \n",
       "2 0.001622308 -0.0007884368 0    \n",
       "3 0.002083457 -0.0051089810 0    \n",
       "4 0.001770326 -0.0073079124 0    \n",
       "5 0.001704831 -0.0023091477 0    \n",
       "6 0.001623557  0.0007012727 0    "
      ]
     },
     "metadata": {},
     "output_type": "display_data"
    }
   ],
   "source": [
    "# Reduce dimenstion using PLS\n",
    "#install.packages('pls')\n",
    "library(pls)\n",
    "pls_std = plsr(Class ~., data=dataset2, ncomp =2)\n",
    "k = predict(pls_std, newdata = dataset2)\n",
    "vec1 = k[,1,1]\n",
    "vec2 = k[,1,2]\n",
    "vec3 = dataset2[,30]\n",
    "dataset=data.frame(v1 = vec1, v2 = vec2, Class= vec3)\n",
    "head(dataset)"
   ]
  },
  {
   "cell_type": "code",
   "execution_count": 5,
   "metadata": {},
   "outputs": [
    {
     "data": {
      "text/html": [
       "<table>\n",
       "<thead><tr><th></th><th scope=col>v1</th><th scope=col>v2</th><th scope=col>Class</th></tr></thead>\n",
       "<tbody>\n",
       "\t<tr><th scope=row>1</th><td>0.001802549  </td><td>-0.0017635885</td><td>0            </td></tr>\n",
       "\t<tr><th scope=row>3</th><td>0.002083457  </td><td>-0.0051089810</td><td>0            </td></tr>\n",
       "\t<tr><th scope=row>5</th><td>0.001704831  </td><td>-0.0023091477</td><td>0            </td></tr>\n",
       "\t<tr><th scope=row>6</th><td>0.001623557  </td><td> 0.0007012727</td><td>0            </td></tr>\n",
       "\t<tr><th scope=row>7</th><td>0.001625067  </td><td>-0.0027946617</td><td>0            </td></tr>\n",
       "\t<tr><th scope=row>8</th><td>0.001668901  </td><td>-0.0059315717</td><td>0            </td></tr>\n",
       "</tbody>\n",
       "</table>\n"
      ],
      "text/latex": [
       "\\begin{tabular}{r|lll}\n",
       "  & v1 & v2 & Class\\\\\n",
       "\\hline\n",
       "\t1 & 0.001802549   & -0.0017635885 & 0            \\\\\n",
       "\t3 & 0.002083457   & -0.0051089810 & 0            \\\\\n",
       "\t5 & 0.001704831   & -0.0023091477 & 0            \\\\\n",
       "\t6 & 0.001623557   &  0.0007012727 & 0            \\\\\n",
       "\t7 & 0.001625067   & -0.0027946617 & 0            \\\\\n",
       "\t8 & 0.001668901   & -0.0059315717 & 0            \\\\\n",
       "\\end{tabular}\n"
      ],
      "text/markdown": [
       "\n",
       "| <!--/--> | v1 | v2 | Class | \n",
       "|---|---|---|---|---|---|\n",
       "| 1 | 0.001802549   | -0.0017635885 | 0             | \n",
       "| 3 | 0.002083457   | -0.0051089810 | 0             | \n",
       "| 5 | 0.001704831   | -0.0023091477 | 0             | \n",
       "| 6 | 0.001623557   |  0.0007012727 | 0             | \n",
       "| 7 | 0.001625067   | -0.0027946617 | 0             | \n",
       "| 8 | 0.001668901   | -0.0059315717 | 0             | \n",
       "\n",
       "\n"
      ],
      "text/plain": [
       "  v1          v2            Class\n",
       "1 0.001802549 -0.0017635885 0    \n",
       "3 0.002083457 -0.0051089810 0    \n",
       "5 0.001704831 -0.0023091477 0    \n",
       "6 0.001623557  0.0007012727 0    \n",
       "7 0.001625067 -0.0027946617 0    \n",
       "8 0.001668901 -0.0059315717 0    "
      ]
     },
     "metadata": {},
     "output_type": "display_data"
    }
   ],
   "source": [
    "# Splitting the dataset into the Training set and Test set\n",
    "# Encoding the target feature as factor\n",
    "dataset$Class = factor(dataset$Class, levels = c(0, 1))\n",
    "# install.packages('random')\n",
    "# install.packages('caTools')\n",
    "library(caTools)\n",
    "library(random)\n",
    "set.seed(121)\n",
    "split = sample.split(dataset$Class, SplitRatio = 0.75)\n",
    "training_set = subset(dataset, split == TRUE)\n",
    "test_set = subset(dataset, split == FALSE)\n",
    "head(training_set)"
   ]
  },
  {
   "cell_type": "code",
   "execution_count": 6,
   "metadata": {},
   "outputs": [],
   "source": [
    "# Feature Scaling\n",
    "training_set[-3] = scale(training_set[-3])\n",
    "test_set[-3] = scale(test_set[-3])"
   ]
  },
  {
   "cell_type": "markdown",
   "metadata": {},
   "source": [
    "## 1. Random Forest"
   ]
  },
  {
   "cell_type": "code",
   "execution_count": 8,
   "metadata": {},
   "outputs": [],
   "source": [
    "library(randomForest)\n",
    "# start the clock\n",
    "start_time <- Sys.time()\n",
    "classifier = randomForest(x = training_set[-3],\n",
    "                          y = training_set$Class,\n",
    "                          ntree = 300)\n",
    "\n",
    "# Stop the clock and save the running time\n",
    "end_time <- Sys.time()\n",
    "time_RF = end_time - start_time"
   ]
  },
  {
   "cell_type": "code",
   "execution_count": 9,
   "metadata": {},
   "outputs": [
    {
     "data": {
      "text/html": [
       "<table>\n",
       "<thead><tr><th scope=col>Actual</th><th scope=col>Predicted</th><th scope=col>Freq</th><th scope=col>Percent</th></tr></thead>\n",
       "<tbody>\n",
       "\t<tr><td>0          </td><td>0          </td><td>71059      </td><td>99.79916294</td></tr>\n",
       "\t<tr><td>1          </td><td>0          </td><td>   33      </td><td> 0.04634701</td></tr>\n",
       "\t<tr><td>0          </td><td>1          </td><td>   20      </td><td> 0.02808910</td></tr>\n",
       "\t<tr><td>1          </td><td>1          </td><td>   90      </td><td> 0.12640094</td></tr>\n",
       "</tbody>\n",
       "</table>\n"
      ],
      "text/latex": [
       "\\begin{tabular}{r|llll}\n",
       " Actual & Predicted & Freq & Percent\\\\\n",
       "\\hline\n",
       "\t 0           & 0           & 71059       & 99.79916294\\\\\n",
       "\t 1           & 0           &    33       &  0.04634701\\\\\n",
       "\t 0           & 1           &    20       &  0.02808910\\\\\n",
       "\t 1           & 1           &    90       &  0.12640094\\\\\n",
       "\\end{tabular}\n"
      ],
      "text/markdown": [
       "\n",
       "Actual | Predicted | Freq | Percent | \n",
       "|---|---|---|---|\n",
       "| 0           | 0           | 71059       | 99.79916294 | \n",
       "| 1           | 0           |    33       |  0.04634701 | \n",
       "| 0           | 1           |    20       |  0.02808910 | \n",
       "| 1           | 1           |    90       |  0.12640094 | \n",
       "\n",
       "\n"
      ],
      "text/plain": [
       "  Actual Predicted Freq  Percent    \n",
       "1 0      0         71059 99.79916294\n",
       "2 1      0            33  0.04634701\n",
       "3 0      1            20  0.02808910\n",
       "4 1      1            90  0.12640094"
      ]
     },
     "metadata": {},
     "output_type": "display_data"
    }
   ],
   "source": [
    "# Predicting the Test set results\n",
    "y_pred = predict(classifier, newdata = test_set[-3])\n",
    "\n",
    "# Building the Confusion Matrix\n",
    "confusion = as.data.frame(table(test_set[, 3], y_pred))\n",
    "names(confusion) = c(\"Actual\",\"Predicted\",\"Freq\")\n",
    "confusion$Percent=confusion$Freq/sum(confusion$Freq) * 100\n",
    "confusion"
   ]
  },
  {
   "cell_type": "code",
   "execution_count": 11,
   "metadata": {},
   "outputs": [
    {
     "data": {},
     "metadata": {},
     "output_type": "display_data"
    },
    {
     "name": "stdout",
     "output_type": "stream",
     "text": [
      "The running time of Random Forest algorithm is 52.19282 \n",
      "The accuracy of Random Forest algorithm is 99.79916"
     ]
    },
    {
     "data": {
      "image/png": "[encoded data removed]",
      "text/plain": [
       "plot without title"
      ]
     },
     "metadata": {},
     "output_type": "display_data"
    }
   ],
   "source": [
    "# Visualising the Test set results\n",
    "library(ggplot2)\n",
    "tile <- ggplot() +\n",
    "  geom_tile(aes(x=Actual, y=Predicted,fill=Percent),data=confusion, color=\"White\",size=0.1) +\n",
    "  labs(x=\"Actual\",y=\"Predicted\")\n",
    "tile = tile + \n",
    "  geom_text(aes(x=Actual,y=Predicted, label=sprintf(\"%.3f\", Percent)),data=confusion, size=3, colour=\"black\") +\n",
    "  scale_fill_gradient(low=\"beige\",high=\"firebrick1\")\n",
    "\n",
    "tile\n",
    "cm_RF = confusion[1,4] + confusion[4,4]\n",
    "cat(\"The running time of Random Forest algorithm is\",time_RF,\"\\n\")\n",
    "cat(\"The accuracy of Random Forest algorithm is\",cm_RF)"
   ]
  },
  {
   "cell_type": "markdown",
   "metadata": {},
   "source": [
    "## 2. k-nearest neighbors(KNN)"
   ]
  },
  {
   "cell_type": "code",
   "execution_count": 12,
   "metadata": {},
   "outputs": [],
   "source": [
    "library(class)\n",
    "# start the clock\n",
    "start_time <- Sys.time()\n",
    "\n",
    "y_pred = knn(train = training_set[, -3],\n",
    "             test = test_set[, -3],\n",
    "             cl = training_set[, 3],\n",
    "             k = 5,\n",
    "             prob = TRUE)\n",
    "# Stop the clock and save the running time\n",
    "end_time <- Sys.time()\n",
    "time = end_time - start_time"
   ]
  },
  {
   "cell_type": "code",
   "execution_count": 13,
   "metadata": {},
   "outputs": [
    {
     "data": {
      "text/html": [
       "<table>\n",
       "<thead><tr><th scope=col>Actual</th><th scope=col>Predicted</th><th scope=col>Freq</th><th scope=col>Percent</th></tr></thead>\n",
       "<tbody>\n",
       "\t<tr><td>0          </td><td>0          </td><td>71073      </td><td>99.81882531</td></tr>\n",
       "\t<tr><td>1          </td><td>0          </td><td>   39      </td><td> 0.05477374</td></tr>\n",
       "\t<tr><td>0          </td><td>1          </td><td>    6      </td><td> 0.00842673</td></tr>\n",
       "\t<tr><td>1          </td><td>1          </td><td>   84      </td><td> 0.11797421</td></tr>\n",
       "</tbody>\n",
       "</table>\n"
      ],
      "text/latex": [
       "\\begin{tabular}{r|llll}\n",
       " Actual & Predicted & Freq & Percent\\\\\n",
       "\\hline\n",
       "\t 0           & 0           & 71073       & 99.81882531\\\\\n",
       "\t 1           & 0           &    39       &  0.05477374\\\\\n",
       "\t 0           & 1           &     6       &  0.00842673\\\\\n",
       "\t 1           & 1           &    84       &  0.11797421\\\\\n",
       "\\end{tabular}\n"
      ],
      "text/markdown": [
       "\n",
       "Actual | Predicted | Freq | Percent | \n",
       "|---|---|---|---|\n",
       "| 0           | 0           | 71073       | 99.81882531 | \n",
       "| 1           | 0           |    39       |  0.05477374 | \n",
       "| 0           | 1           |     6       |  0.00842673 | \n",
       "| 1           | 1           |    84       |  0.11797421 | \n",
       "\n",
       "\n"
      ],
      "text/plain": [
       "  Actual Predicted Freq  Percent    \n",
       "1 0      0         71073 99.81882531\n",
       "2 1      0            39  0.05477374\n",
       "3 0      1             6  0.00842673\n",
       "4 1      1            84  0.11797421"
      ]
     },
     "metadata": {},
     "output_type": "display_data"
    }
   ],
   "source": [
    "# Building the Confusion Matrix\n",
    "confusion = as.data.frame(table(test_set[, 3], y_pred))\n",
    "names(confusion) = c(\"Actual\",\"Predicted\",\"Freq\")\n",
    "confusion$Percent=confusion$Freq/sum(confusion$Freq) * 100\n",
    "confusion"
   ]
  },
  {
   "cell_type": "code",
   "execution_count": 14,
   "metadata": {},
   "outputs": [
    {
     "data": {},
     "metadata": {},
     "output_type": "display_data"
    },
    {
     "name": "stdout",
     "output_type": "stream",
     "text": [
      "The running time of k-nearest neighbors is 55.5181 \n",
      "The accuracy of k-nearest neighbors is 99.81883"
     ]
    },
    {
     "data": {
      "image/png": "[encoded data removed]",
      "text/plain": [
       "plot without title"
      ]
     },
     "metadata": {},
     "output_type": "display_data"
    }
   ],
   "source": [
    "# Visualising the Test set results\n",
    "# library(ggplot2)\n",
    "tile <- ggplot() +\n",
    "  geom_tile(aes(x=Actual, y=Predicted,fill=Percent),data=confusion, color=\"White\",size=0.1) +\n",
    "  labs(x=\"Actual\",y=\"Predicted\")\n",
    "tile = tile + \n",
    "  geom_text(aes(x=Actual,y=Predicted, label=sprintf(\"%.3f\", Percent)),data=confusion, size=3, colour=\"black\") +\n",
    "  scale_fill_gradient(low=\"beige\",high=\"orange\")\n",
    "\n",
    "tile\n",
    "time_KNN = time\n",
    "cm_KNN = confusion[1,4] + confusion[4,4]\n",
    "cat(\"The running time of k-nearest neighbors is\",time_KNN,\"\\n\")\n",
    "cat(\"The accuracy of k-nearest neighbors is\",cm_KNN)"
   ]
  },
  {
   "cell_type": "markdown",
   "metadata": {},
   "source": [
    "## 3. Naïve Bayes"
   ]
  },
  {
   "cell_type": "code",
   "execution_count": 15,
   "metadata": {},
   "outputs": [
    {
     "data": {
      "text/html": [
       "<ol class=list-inline>\n",
       "\t<li>0</li>\n",
       "\t<li>0</li>\n",
       "\t<li>0</li>\n",
       "\t<li>0</li>\n",
       "\t<li>0</li>\n",
       "\t<li>0</li>\n",
       "</ol>\n"
      ],
      "text/latex": [
       "\\begin{enumerate*}\n",
       "\\item 0\n",
       "\\item 0\n",
       "\\item 0\n",
       "\\item 0\n",
       "\\item 0\n",
       "\\item 0\n",
       "\\end{enumerate*}\n"
      ],
      "text/markdown": [
       "1. 0\n",
       "2. 0\n",
       "3. 0\n",
       "4. 0\n",
       "5. 0\n",
       "6. 0\n",
       "\n",
       "\n"
      ],
      "text/plain": [
       "[1] 0 0 0 0 0 0\n",
       "Levels: 0 1"
      ]
     },
     "metadata": {},
     "output_type": "display_data"
    }
   ],
   "source": [
    "# Fitting Naive Bayes to the Training set\n",
    "# install.packages('e1071')\n",
    "library(e1071)\n",
    "# start the clock\n",
    "start_time <- Sys.time()\n",
    "\n",
    "classifier = naiveBayes(x = training_set[-3],\n",
    "                        y = training_set$Class)\n",
    "# Stop the clock and save the running time\n",
    "end_time <- Sys.time()\n",
    "time = end_time - start_time\n",
    "\n",
    "# Predicting the Test set results\n",
    "y_pred = predict(classifier, newdata = test_set[-3])\n",
    "head(y_pred)"
   ]
  },
  {
   "cell_type": "code",
   "execution_count": 16,
   "metadata": {},
   "outputs": [
    {
     "data": {
      "text/html": [
       "<table>\n",
       "<thead><tr><th scope=col>Actual</th><th scope=col>Predicted</th><th scope=col>Freq</th><th scope=col>Percent</th></tr></thead>\n",
       "<tbody>\n",
       "\t<tr><td>0         </td><td>0         </td><td>70750     </td><td>99.3651864</td></tr>\n",
       "\t<tr><td>1         </td><td>0         </td><td>   51     </td><td> 0.0716272</td></tr>\n",
       "\t<tr><td>0         </td><td>1         </td><td>  329     </td><td> 0.4620657</td></tr>\n",
       "\t<tr><td>1         </td><td>1         </td><td>   72     </td><td> 0.1011208</td></tr>\n",
       "</tbody>\n",
       "</table>\n"
      ],
      "text/latex": [
       "\\begin{tabular}{r|llll}\n",
       " Actual & Predicted & Freq & Percent\\\\\n",
       "\\hline\n",
       "\t 0          & 0          & 70750      & 99.3651864\\\\\n",
       "\t 1          & 0          &    51      &  0.0716272\\\\\n",
       "\t 0          & 1          &   329      &  0.4620657\\\\\n",
       "\t 1          & 1          &    72      &  0.1011208\\\\\n",
       "\\end{tabular}\n"
      ],
      "text/markdown": [
       "\n",
       "Actual | Predicted | Freq | Percent | \n",
       "|---|---|---|---|\n",
       "| 0          | 0          | 70750      | 99.3651864 | \n",
       "| 1          | 0          |    51      |  0.0716272 | \n",
       "| 0          | 1          |   329      |  0.4620657 | \n",
       "| 1          | 1          |    72      |  0.1011208 | \n",
       "\n",
       "\n"
      ],
      "text/plain": [
       "  Actual Predicted Freq  Percent   \n",
       "1 0      0         70750 99.3651864\n",
       "2 1      0            51  0.0716272\n",
       "3 0      1           329  0.4620657\n",
       "4 1      1            72  0.1011208"
      ]
     },
     "metadata": {},
     "output_type": "display_data"
    }
   ],
   "source": [
    "# Building the Confusion Matrix\n",
    "confusion = as.data.frame(table(test_set[, 3], y_pred))\n",
    "names(confusion) = c(\"Actual\",\"Predicted\",\"Freq\")\n",
    "confusion$Percent=confusion$Freq/sum(confusion$Freq) * 100\n",
    "confusion"
   ]
  },
  {
   "cell_type": "code",
   "execution_count": 17,
   "metadata": {},
   "outputs": [
    {
     "data": {},
     "metadata": {},
     "output_type": "display_data"
    },
    {
     "name": "stdout",
     "output_type": "stream",
     "text": [
      "The running time of Naïve Bayes algorithm is 0.06734204 \n",
      "The accuracy of Naïve Bayes algorithm is 99.36519"
     ]
    },
    {
     "data": {
      "image/png": "[encoded data removed]",
      "text/plain": [
       "plot without title"
      ]
     },
     "metadata": {},
     "output_type": "display_data"
    }
   ],
   "source": [
    "# Visualising the Test set results\n",
    "# library(ggplot2)\n",
    "tile <- ggplot() +\n",
    "  geom_tile(aes(x=Actual, y=Predicted,fill=Percent),data=confusion, color=\"White\",size=0.1) +\n",
    "  labs(x=\"Actual\",y=\"Predicted\")\n",
    "tile = tile + \n",
    "  geom_text(aes(x=Actual,y=Predicted, label=sprintf(\"%.3f\", Percent)),data=confusion, size=3, colour=\"black\") +\n",
    "  scale_fill_gradient(low=\"beige\",high=\"yellow\")\n",
    "\n",
    "tile\n",
    "time_NB = time\n",
    "cm_NB = confusion[1,4] + confusion[4,4]\n",
    "cat(\"The running time of Naïve Bayes algorithm is\",time_NB,\"\\n\")\n",
    "cat(\"The accuracy of Naïve Bayes algorithm is\",cm_NB)"
   ]
  },
  {
   "cell_type": "markdown",
   "metadata": {},
   "source": [
    "## 4. XGBoost(Extreme Gradient Boost)"
   ]
  },
  {
   "cell_type": "code",
   "execution_count": 18,
   "metadata": {},
   "outputs": [
    {
     "data": {
      "text/html": [
       "<table>\n",
       "<thead><tr><th scope=col>v1</th><th scope=col>v2</th><th scope=col>Class</th></tr></thead>\n",
       "<tbody>\n",
       "\t<tr><td>0.001802549  </td><td>-0.0017635885</td><td>0            </td></tr>\n",
       "\t<tr><td>0.001622308  </td><td>-0.0007884368</td><td>0            </td></tr>\n",
       "\t<tr><td>0.002083457  </td><td>-0.0051089810</td><td>0            </td></tr>\n",
       "\t<tr><td>0.001770326  </td><td>-0.0073079124</td><td>0            </td></tr>\n",
       "\t<tr><td>0.001704831  </td><td>-0.0023091477</td><td>0            </td></tr>\n",
       "\t<tr><td>0.001623557  </td><td> 0.0007012727</td><td>0            </td></tr>\n",
       "</tbody>\n",
       "</table>\n"
      ],
      "text/latex": [
       "\\begin{tabular}{r|lll}\n",
       " v1 & v2 & Class\\\\\n",
       "\\hline\n",
       "\t 0.001802549   & -0.0017635885 & 0            \\\\\n",
       "\t 0.001622308   & -0.0007884368 & 0            \\\\\n",
       "\t 0.002083457   & -0.0051089810 & 0            \\\\\n",
       "\t 0.001770326   & -0.0073079124 & 0            \\\\\n",
       "\t 0.001704831   & -0.0023091477 & 0            \\\\\n",
       "\t 0.001623557   &  0.0007012727 & 0            \\\\\n",
       "\\end{tabular}\n"
      ],
      "text/markdown": [
       "\n",
       "v1 | v2 | Class | \n",
       "|---|---|---|---|---|---|\n",
       "| 0.001802549   | -0.0017635885 | 0             | \n",
       "| 0.001622308   | -0.0007884368 | 0             | \n",
       "| 0.002083457   | -0.0051089810 | 0             | \n",
       "| 0.001770326   | -0.0073079124 | 0             | \n",
       "| 0.001704831   | -0.0023091477 | 0             | \n",
       "| 0.001623557   |  0.0007012727 | 0             | \n",
       "\n",
       "\n"
      ],
      "text/plain": [
       "  v1          v2            Class\n",
       "1 0.001802549 -0.0017635885 0    \n",
       "2 0.001622308 -0.0007884368 0    \n",
       "3 0.002083457 -0.0051089810 0    \n",
       "4 0.001770326 -0.0073079124 0    \n",
       "5 0.001704831 -0.0023091477 0    \n",
       "6 0.001623557  0.0007012727 0    "
      ]
     },
     "metadata": {},
     "output_type": "display_data"
    },
    {
     "data": {
      "text/html": [
       "<table>\n",
       "<thead><tr><th></th><th scope=col>v1</th><th scope=col>v2</th><th scope=col>Class</th></tr></thead>\n",
       "<tbody>\n",
       "\t<tr><th scope=row>1</th><td>0.001802549  </td><td>-0.0017635885</td><td>0            </td></tr>\n",
       "\t<tr><th scope=row>3</th><td>0.002083457  </td><td>-0.0051089810</td><td>0            </td></tr>\n",
       "\t<tr><th scope=row>5</th><td>0.001704831  </td><td>-0.0023091477</td><td>0            </td></tr>\n",
       "\t<tr><th scope=row>6</th><td>0.001623557  </td><td> 0.0007012727</td><td>0            </td></tr>\n",
       "\t<tr><th scope=row>7</th><td>0.001625067  </td><td>-0.0027946617</td><td>0            </td></tr>\n",
       "\t<tr><th scope=row>8</th><td>0.001668901  </td><td>-0.0059315717</td><td>0            </td></tr>\n",
       "</tbody>\n",
       "</table>\n"
      ],
      "text/latex": [
       "\\begin{tabular}{r|lll}\n",
       "  & v1 & v2 & Class\\\\\n",
       "\\hline\n",
       "\t1 & 0.001802549   & -0.0017635885 & 0            \\\\\n",
       "\t3 & 0.002083457   & -0.0051089810 & 0            \\\\\n",
       "\t5 & 0.001704831   & -0.0023091477 & 0            \\\\\n",
       "\t6 & 0.001623557   &  0.0007012727 & 0            \\\\\n",
       "\t7 & 0.001625067   & -0.0027946617 & 0            \\\\\n",
       "\t8 & 0.001668901   & -0.0059315717 & 0            \\\\\n",
       "\\end{tabular}\n"
      ],
      "text/markdown": [
       "\n",
       "| <!--/--> | v1 | v2 | Class | \n",
       "|---|---|---|---|---|---|\n",
       "| 1 | 0.001802549   | -0.0017635885 | 0             | \n",
       "| 3 | 0.002083457   | -0.0051089810 | 0             | \n",
       "| 5 | 0.001704831   | -0.0023091477 | 0             | \n",
       "| 6 | 0.001623557   |  0.0007012727 | 0             | \n",
       "| 7 | 0.001625067   | -0.0027946617 | 0             | \n",
       "| 8 | 0.001668901   | -0.0059315717 | 0             | \n",
       "\n",
       "\n"
      ],
      "text/plain": [
       "  v1          v2            Class\n",
       "1 0.001802549 -0.0017635885 0    \n",
       "3 0.002083457 -0.0051089810 0    \n",
       "5 0.001704831 -0.0023091477 0    \n",
       "6 0.001623557  0.0007012727 0    \n",
       "7 0.001625067 -0.0027946617 0    \n",
       "8 0.001668901 -0.0059315717 0    "
      ]
     },
     "metadata": {},
     "output_type": "display_data"
    }
   ],
   "source": [
    "# XGBoost use integer class so we make training set and test set again.\n",
    "vec1 = k[,1,1]\n",
    "vec2 = k[,1,2]\n",
    "vec3 = dataset2[,30]\n",
    "dataset=data.frame(v1 = vec1, v2 = vec2, Class= vec3)\n",
    "head(dataset)\n",
    "\n",
    "# Splitting the dataset into the Training set and Test set\n",
    "#library(caTools)\n",
    "#library(random)\n",
    "set.seed(121)\n",
    "split = sample.split(dataset$Class, SplitRatio = 0.75)\n",
    "training_set = subset(dataset, split == TRUE)\n",
    "test_set = subset(dataset, split == FALSE)\n",
    "head(training_set)"
   ]
  },
  {
   "cell_type": "code",
   "execution_count": 19,
   "metadata": {},
   "outputs": [
    {
     "name": "stdout",
     "output_type": "stream",
     "text": [
      "[1]\ttrain-rmse:0.350361 \n",
      "[2]\ttrain-rmse:0.245742 \n",
      "[3]\ttrain-rmse:0.172686 \n",
      "[4]\ttrain-rmse:0.121808 \n",
      "[5]\ttrain-rmse:0.086492 \n",
      "[6]\ttrain-rmse:0.062238 \n",
      "[7]\ttrain-rmse:0.045845 \n",
      "[8]\ttrain-rmse:0.035025 \n",
      "[9]\ttrain-rmse:0.028232 \n",
      "[10]\ttrain-rmse:0.024214 \n"
     ]
    },
    {
     "data": {
      "text/html": [
       "<ol class=list-inline>\n",
       "\t<li>FALSE</li>\n",
       "\t<li>FALSE</li>\n",
       "\t<li>FALSE</li>\n",
       "\t<li>FALSE</li>\n",
       "\t<li>FALSE</li>\n",
       "\t<li>FALSE</li>\n",
       "</ol>\n"
      ],
      "text/latex": [
       "\\begin{enumerate*}\n",
       "\\item FALSE\n",
       "\\item FALSE\n",
       "\\item FALSE\n",
       "\\item FALSE\n",
       "\\item FALSE\n",
       "\\item FALSE\n",
       "\\end{enumerate*}\n"
      ],
      "text/markdown": [
       "1. FALSE\n",
       "2. FALSE\n",
       "3. FALSE\n",
       "4. FALSE\n",
       "5. FALSE\n",
       "6. FALSE\n",
       "\n",
       "\n"
      ],
      "text/plain": [
       "[1] FALSE FALSE FALSE FALSE FALSE FALSE"
      ]
     },
     "metadata": {},
     "output_type": "display_data"
    },
    {
     "data": {
      "text/html": [
       "<ol class=list-inline>\n",
       "\t<li>0</li>\n",
       "\t<li>0</li>\n",
       "\t<li>0</li>\n",
       "\t<li>0</li>\n",
       "\t<li>0</li>\n",
       "\t<li>0</li>\n",
       "</ol>\n"
      ],
      "text/latex": [
       "\\begin{enumerate*}\n",
       "\\item 0\n",
       "\\item 0\n",
       "\\item 0\n",
       "\\item 0\n",
       "\\item 0\n",
       "\\item 0\n",
       "\\end{enumerate*}\n"
      ],
      "text/markdown": [
       "1. 0\n",
       "2. 0\n",
       "3. 0\n",
       "4. 0\n",
       "5. 0\n",
       "6. 0\n",
       "\n",
       "\n"
      ],
      "text/plain": [
       "[1] 0 0 0 0 0 0"
      ]
     },
     "metadata": {},
     "output_type": "display_data"
    }
   ],
   "source": [
    "# Fitting XGBoost to the Training set\n",
    "# install.packages('xgboost')\n",
    "library(xgboost)\n",
    "# start the clock\n",
    "start_time <- Sys.time()\n",
    "\n",
    "classifier = xgboost(data = as.matrix(training_set[-3]), label = as.integer(training_set$Class), nrounds = 10)\n",
    "# Stop the clock and save the running time\n",
    "end_time <- Sys.time()\n",
    "time = end_time - start_time\n",
    "\n",
    "# Predicting the Test set results\n",
    "y_pred = predict(classifier, newdata = as.matrix(test_set[-3]))\n",
    "y_pred = (y_pred >= 0.5)\n",
    "head(y_pred)\n",
    "head(test_set[,3])"
   ]
  },
  {
   "cell_type": "code",
   "execution_count": 20,
   "metadata": {},
   "outputs": [
    {
     "data": {
      "text/html": [
       "<table>\n",
       "<thead><tr><th scope=col>Actual</th><th scope=col>Predicted</th><th scope=col>Freq</th><th scope=col>Percent</th></tr></thead>\n",
       "<tbody>\n",
       "\t<tr><td>0           </td><td>FALSE       </td><td>71074       </td><td>99.820229769</td></tr>\n",
       "\t<tr><td>1           </td><td>FALSE       </td><td>   35       </td><td> 0.049155923</td></tr>\n",
       "\t<tr><td>0           </td><td>TRUE        </td><td>    5       </td><td> 0.007022275</td></tr>\n",
       "\t<tr><td>1           </td><td>TRUE        </td><td>   88       </td><td> 0.123592034</td></tr>\n",
       "</tbody>\n",
       "</table>\n"
      ],
      "text/latex": [
       "\\begin{tabular}{r|llll}\n",
       " Actual & Predicted & Freq & Percent\\\\\n",
       "\\hline\n",
       "\t 0            & FALSE        & 71074        & 99.820229769\\\\\n",
       "\t 1            & FALSE        &    35        &  0.049155923\\\\\n",
       "\t 0            & TRUE         &     5        &  0.007022275\\\\\n",
       "\t 1            & TRUE         &    88        &  0.123592034\\\\\n",
       "\\end{tabular}\n"
      ],
      "text/markdown": [
       "\n",
       "Actual | Predicted | Freq | Percent | \n",
       "|---|---|---|---|\n",
       "| 0            | FALSE        | 71074        | 99.820229769 | \n",
       "| 1            | FALSE        |    35        |  0.049155923 | \n",
       "| 0            | TRUE         |     5        |  0.007022275 | \n",
       "| 1            | TRUE         |    88        |  0.123592034 | \n",
       "\n",
       "\n"
      ],
      "text/plain": [
       "  Actual Predicted Freq  Percent     \n",
       "1 0      FALSE     71074 99.820229769\n",
       "2 1      FALSE        35  0.049155923\n",
       "3 0      TRUE          5  0.007022275\n",
       "4 1      TRUE         88  0.123592034"
      ]
     },
     "metadata": {},
     "output_type": "display_data"
    }
   ],
   "source": [
    "# Building the Confusion Matrix\n",
    "confusion = as.data.frame(table(test_set[, 3], y_pred))\n",
    "names(confusion) = c(\"Actual\",\"Predicted\",\"Freq\")\n",
    "confusion$Percent=confusion$Freq/sum(confusion$Freq) * 100\n",
    "confusion"
   ]
  },
  {
   "cell_type": "code",
   "execution_count": 22,
   "metadata": {},
   "outputs": [
    {
     "name": "stdout",
     "output_type": "stream",
     "text": [
      "[1]\ttrain-rmse:0.350361 \n",
      "[2]\ttrain-rmse:0.245742 \n",
      "[3]\ttrain-rmse:0.172686 \n",
      "[4]\ttrain-rmse:0.121808 \n",
      "[5]\ttrain-rmse:0.086492 \n",
      "[6]\ttrain-rmse:0.062238 \n",
      "[7]\ttrain-rmse:0.045845 \n",
      "[8]\ttrain-rmse:0.035025 \n",
      "[9]\ttrain-rmse:0.028232 \n",
      "[10]\ttrain-rmse:0.024214 \n",
      "[1]\ttrain-rmse:0.350361 \n",
      "[2]\ttrain-rmse:0.245742 \n",
      "[3]\ttrain-rmse:0.172686 \n",
      "[4]\ttrain-rmse:0.121808 \n",
      "[5]\ttrain-rmse:0.086492 \n",
      "[6]\ttrain-rmse:0.062238 \n",
      "[7]\ttrain-rmse:0.045845 \n",
      "[8]\ttrain-rmse:0.035025 \n",
      "[9]\ttrain-rmse:0.028232 \n",
      "[10]\ttrain-rmse:0.024214 \n",
      "[1]\ttrain-rmse:0.350361 \n",
      "[2]\ttrain-rmse:0.245742 \n",
      "[3]\ttrain-rmse:0.172686 \n",
      "[4]\ttrain-rmse:0.121808 \n",
      "[5]\ttrain-rmse:0.086492 \n",
      "[6]\ttrain-rmse:0.062238 \n",
      "[7]\ttrain-rmse:0.045845 \n",
      "[8]\ttrain-rmse:0.035025 \n",
      "[9]\ttrain-rmse:0.028232 \n",
      "[10]\ttrain-rmse:0.024214 \n",
      "[1]\ttrain-rmse:0.350361 \n",
      "[2]\ttrain-rmse:0.245742 \n",
      "[3]\ttrain-rmse:0.172686 \n",
      "[4]\ttrain-rmse:0.121808 \n",
      "[5]\ttrain-rmse:0.086492 \n",
      "[6]\ttrain-rmse:0.062238 \n",
      "[7]\ttrain-rmse:0.045845 \n",
      "[8]\ttrain-rmse:0.035025 \n",
      "[9]\ttrain-rmse:0.028232 \n",
      "[10]\ttrain-rmse:0.024214 \n",
      "[1]\ttrain-rmse:0.350361 \n",
      "[2]\ttrain-rmse:0.245742 \n",
      "[3]\ttrain-rmse:0.172686 \n",
      "[4]\ttrain-rmse:0.121808 \n",
      "[5]\ttrain-rmse:0.086492 \n",
      "[6]\ttrain-rmse:0.062238 \n",
      "[7]\ttrain-rmse:0.045845 \n",
      "[8]\ttrain-rmse:0.035025 \n",
      "[9]\ttrain-rmse:0.028232 \n",
      "[10]\ttrain-rmse:0.024214 \n",
      "[1]\ttrain-rmse:0.350361 \n",
      "[2]\ttrain-rmse:0.245742 \n",
      "[3]\ttrain-rmse:0.172686 \n",
      "[4]\ttrain-rmse:0.121808 \n",
      "[5]\ttrain-rmse:0.086492 \n",
      "[6]\ttrain-rmse:0.062238 \n",
      "[7]\ttrain-rmse:0.045845 \n",
      "[8]\ttrain-rmse:0.035025 \n",
      "[9]\ttrain-rmse:0.028232 \n",
      "[10]\ttrain-rmse:0.024214 \n",
      "[1]\ttrain-rmse:0.350361 \n",
      "[2]\ttrain-rmse:0.245742 \n",
      "[3]\ttrain-rmse:0.172686 \n",
      "[4]\ttrain-rmse:0.121808 \n",
      "[5]\ttrain-rmse:0.086492 \n",
      "[6]\ttrain-rmse:0.062238 \n",
      "[7]\ttrain-rmse:0.045845 \n",
      "[8]\ttrain-rmse:0.035025 \n",
      "[9]\ttrain-rmse:0.028232 \n",
      "[10]\ttrain-rmse:0.024214 \n",
      "[1]\ttrain-rmse:0.350361 \n",
      "[2]\ttrain-rmse:0.245742 \n",
      "[3]\ttrain-rmse:0.172686 \n",
      "[4]\ttrain-rmse:0.121808 \n",
      "[5]\ttrain-rmse:0.086492 \n",
      "[6]\ttrain-rmse:0.062238 \n",
      "[7]\ttrain-rmse:0.045845 \n",
      "[8]\ttrain-rmse:0.035025 \n",
      "[9]\ttrain-rmse:0.028232 \n",
      "[10]\ttrain-rmse:0.024214 \n",
      "[1]\ttrain-rmse:0.350361 \n",
      "[2]\ttrain-rmse:0.245742 \n",
      "[3]\ttrain-rmse:0.172686 \n",
      "[4]\ttrain-rmse:0.121808 \n",
      "[5]\ttrain-rmse:0.086492 \n",
      "[6]\ttrain-rmse:0.062238 \n",
      "[7]\ttrain-rmse:0.045845 \n",
      "[8]\ttrain-rmse:0.035025 \n",
      "[9]\ttrain-rmse:0.028232 \n",
      "[10]\ttrain-rmse:0.024214 \n",
      "[1]\ttrain-rmse:0.350361 \n",
      "[2]\ttrain-rmse:0.245742 \n",
      "[3]\ttrain-rmse:0.172686 \n",
      "[4]\ttrain-rmse:0.121808 \n",
      "[5]\ttrain-rmse:0.086492 \n",
      "[6]\ttrain-rmse:0.062238 \n",
      "[7]\ttrain-rmse:0.045845 \n",
      "[8]\ttrain-rmse:0.035025 \n",
      "[9]\ttrain-rmse:0.028232 \n",
      "[10]\ttrain-rmse:0.024214 \n"
     ]
    }
   ],
   "source": [
    "# Applying k-Fold Cross Validation\n",
    "# install.packages('caret')\n",
    "library(caret)\n",
    "folds = createFolds(training_set$Class, k = 10)\n",
    "cv = lapply(folds, function(x) {\n",
    "  training_fold = training_set[-x, ]\n",
    "  test_fold = training_set[x, ]\n",
    "  classifier = xgboost(data = as.matrix(training_set[-3]), label = training_set$Class, nrounds = 10)\n",
    "  y_pred = predict(classifier, newdata = as.matrix(test_fold[-3]))\n",
    "  y_pred = (y_pred >= 0.5)\n",
    "  cm = table(test_fold[, 3], y_pred)\n",
    "  accuracy = (cm[1,1]+cm[2,2]) /margin.table(cm)\n",
    "  return(accuracy)\n",
    "})\n",
    "cm_XGB_KCV = mean(as.numeric(cv))"
   ]
  },
  {
   "cell_type": "code",
   "execution_count": 24,
   "metadata": {},
   "outputs": [
    {
     "data": {},
     "metadata": {},
     "output_type": "display_data"
    },
    {
     "name": "stdout",
     "output_type": "stream",
     "text": [
      "The running time of Naïve Bayes algorithm is 0.743468 \n",
      "The accuracy of Naïve Bayes algorithm is 99.82023 \n",
      "The accuracy of Naïve Bayes algorithm after K-Fold Cross Validation is 99.95974"
     ]
    },
    {
     "data": {
      "image/png": "[encoded data removed]",
      "text/plain": [
       "plot without title"
      ]
     },
     "metadata": {},
     "output_type": "display_data"
    }
   ],
   "source": [
    "# Visualising the Test set results\n",
    "# library(ggplot2)\n",
    "tile <- ggplot() +\n",
    "  geom_tile(aes(x=Actual, y=Predicted,fill=Percent),data=confusion, color=\"White\",size=0.1) +\n",
    "  labs(x=\"Actual\",y=\"Predicted\")\n",
    "tile = tile + \n",
    "  geom_text(aes(x=Actual,y=Predicted, label=sprintf(\"%.3f\", Percent)),data=confusion, size=3, colour=\"black\") +\n",
    "  scale_fill_gradient(low=\"beige\",high=\"green\")\n",
    "\n",
    "tile\n",
    "time_XGB = time\n",
    "cm_XGB = confusion[1,4] + confusion[4,4]\n",
    "cm_XGB_KCV = cm_XGB_KCV*100\n",
    "cat(\"The running time of Naïve Bayes algorithm is\",time_XGB,\"\\n\")\n",
    "cat(\"The accuracy of Naïve Bayes algorithm is\",cm_XGB,\"\\n\")\n",
    "cat(\"The accuracy of Naïve Bayes algorithm after K-Fold Cross Validation is\",cm_XGB_KCV)"
   ]
  },
  {
   "cell_type": "markdown",
   "metadata": {},
   "source": [
    "## 5 Support Vector Machine(SVM)"
   ]
  },
  {
   "cell_type": "code",
   "execution_count": 25,
   "metadata": {},
   "outputs": [],
   "source": [
    "# Fitting Kernel SVM to the Training set\n",
    "# install.packages('e1071')\n",
    "library(e1071)\n",
    "# Start the clock\n",
    "start_time <- Sys.time()\n",
    "classifier = svm(formula = Class ~ .,\n",
    "                 data = training_set,\n",
    "                 type = 'C-classification',\n",
    "                 kernel = 'radial')\n",
    "# Stop the clock and save the running time\n",
    "end_time <- Sys.time()\n",
    "time = end_time - start_time\n",
    "\n",
    "# Predicting the Test set results\n",
    "y_pred = predict(classifier, newdata = test_set[-30])\n"
   ]
  },
  {
   "cell_type": "code",
   "execution_count": 26,
   "metadata": {},
   "outputs": [
    {
     "data": {
      "text/html": [
       "<table>\n",
       "<thead><tr><th scope=col>Actual</th><th scope=col>Predicted</th><th scope=col>Freq</th><th scope=col>Percent</th></tr></thead>\n",
       "<tbody>\n",
       "\t<tr><td>0          </td><td>0          </td><td>71070      </td><td>99.81461195</td></tr>\n",
       "\t<tr><td>1          </td><td>0          </td><td>   30      </td><td> 0.04213365</td></tr>\n",
       "\t<tr><td>0          </td><td>1          </td><td>    9      </td><td> 0.01264009</td></tr>\n",
       "\t<tr><td>1          </td><td>1          </td><td>   93      </td><td> 0.13061431</td></tr>\n",
       "</tbody>\n",
       "</table>\n"
      ],
      "text/latex": [
       "\\begin{tabular}{r|llll}\n",
       " Actual & Predicted & Freq & Percent\\\\\n",
       "\\hline\n",
       "\t 0           & 0           & 71070       & 99.81461195\\\\\n",
       "\t 1           & 0           &    30       &  0.04213365\\\\\n",
       "\t 0           & 1           &     9       &  0.01264009\\\\\n",
       "\t 1           & 1           &    93       &  0.13061431\\\\\n",
       "\\end{tabular}\n"
      ],
      "text/markdown": [
       "\n",
       "Actual | Predicted | Freq | Percent | \n",
       "|---|---|---|---|\n",
       "| 0           | 0           | 71070       | 99.81461195 | \n",
       "| 1           | 0           |    30       |  0.04213365 | \n",
       "| 0           | 1           |     9       |  0.01264009 | \n",
       "| 1           | 1           |    93       |  0.13061431 | \n",
       "\n",
       "\n"
      ],
      "text/plain": [
       "  Actual Predicted Freq  Percent    \n",
       "1 0      0         71070 99.81461195\n",
       "2 1      0            30  0.04213365\n",
       "3 0      1             9  0.01264009\n",
       "4 1      1            93  0.13061431"
      ]
     },
     "metadata": {},
     "output_type": "display_data"
    }
   ],
   "source": [
    "# Building the Confusion Matrix\n",
    "confusion = as.data.frame(table(test_set[, 3], y_pred))\n",
    "names(confusion) = c(\"Actual\",\"Predicted\",\"Freq\")\n",
    "confusion$Percent=confusion$Freq/sum(confusion$Freq) * 100\n",
    "confusion"
   ]
  },
  {
   "cell_type": "code",
   "execution_count": 27,
   "metadata": {},
   "outputs": [],
   "source": [
    "# Applying k-Fold Cross Validation\n",
    "# install.packages('caret')\n",
    "# library(caret)\n",
    "folds = createFolds(training_set$Class, k = 10)\n",
    "cv = lapply(folds, function(x) {\n",
    "  training_fold = training_set[-x, ]\n",
    "  test_fold = training_set[x, ]\n",
    "  classifier = classifier\n",
    "  y_pred = predict(classifier, newdata = test_fold[-3])\n",
    "  cm = table(test_fold[, 3], y_pred)\n",
    "  accuracy = (cm[1,1] + cm[2,2])/margin.table(cm)\n",
    "  return(accuracy)\n",
    "})\n",
    "cm_SVM_KCV = mean(as.numeric(cv))"
   ]
  },
  {
   "cell_type": "code",
   "execution_count": 28,
   "metadata": {},
   "outputs": [
    {
     "data": {},
     "metadata": {},
     "output_type": "display_data"
    },
    {
     "name": "stdout",
     "output_type": "stream",
     "text": [
      "The running time of Naïve Bayes algorithm is 2.700743 \n",
      "The accuracy of Naïve Bayes algorithm is 99.81461 \n",
      "The accuracy of Naïve Bayes algorithm after K-Fold Cross Validation is 99.93727"
     ]
    },
    {
     "data": {
      "image/png": "[encoded data removed]",
      "text/plain": [
       "plot without title"
      ]
     },
     "metadata": {},
     "output_type": "display_data"
    }
   ],
   "source": [
    "# Visualising the Test set results\n",
    "# library(ggplot2)\n",
    "tile <- ggplot() +\n",
    "  geom_tile(aes(x=Actual, y=Predicted,fill=Percent),data=confusion, color=\"White\",size=0.1) +\n",
    "  labs(x=\"Actual\",y=\"Predicted\")\n",
    "tile = tile + \n",
    "  geom_text(aes(x=Actual,y=Predicted, label=sprintf(\"%.3f\", Percent)),data=confusion, size=3, colour=\"black\") +\n",
    "  scale_fill_gradient(low=\"beige\",high=\"dodgerblue\")\n",
    "\n",
    "tile\n",
    "time_SVM = time\n",
    "cm_SVM = confusion[1,4] + confusion[4,4]\n",
    "cm_SVM_KCV = cm_SVM_KCV*100\n",
    "cat(\"The running time of Naïve Bayes algorithm is\",time_SVM,\"\\n\")\n",
    "cat(\"The accuracy of Naïve Bayes algorithm is\",cm_SVM,\"\\n\")\n",
    "cat(\"The accuracy of Naïve Bayes algorithm after K-Fold Cross Validation is\",cm_SVM_KCV)"
   ]
  },
  {
   "cell_type": "markdown",
   "metadata": {},
   "source": [
    "## 6 Performance test"
   ]
  },
  {
   "cell_type": "code",
   "execution_count": 64,
   "metadata": {},
   "outputs": [
    {
     "data": {
      "text/html": [
       "<table>\n",
       "<thead><tr><th scope=col>RF</th><th scope=col>KNN</th><th scope=col>NB</th><th scope=col>XGB</th><th scope=col>XGB_KCV</th><th scope=col>SVM</th><th scope=col>SVM_KCV</th></tr></thead>\n",
       "<tbody>\n",
       "\t<tr><td>0.2008371 </td><td>0.1811747 </td><td>0.6348136 </td><td>0.1797702 </td><td>0.04026123</td><td>0.1853881 </td><td>0.06273268</td></tr>\n",
       "</tbody>\n",
       "</table>\n"
      ],
      "text/latex": [
       "\\begin{tabular}{lllllll}\n",
       " RF & KNN & NB & XGB & XGB\\_KCV & SVM & SVM\\_KCV\\\\\n",
       "\\hline\n",
       "\t 0.2008371  & 0.1811747  & 0.6348136  & 0.1797702  & 0.04026123 & 0.1853881  & 0.06273268\\\\\n",
       "\\end{tabular}\n"
      ],
      "text/markdown": [
       "\n",
       "RF | KNN | NB | XGB | XGB_KCV | SVM | SVM_KCV | \n",
       "|---|\n",
       "| 0.2008371  | 0.1811747  | 0.6348136  | 0.1797702  | 0.04026123 | 0.1853881  | 0.06273268 | \n",
       "\n",
       "\n"
      ],
      "text/plain": [
       "     RF        KNN       NB        XGB       XGB_KCV    SVM       SVM_KCV   \n",
       "[1,] 0.2008371 0.1811747 0.6348136 0.1797702 0.04026123 0.1853881 0.06273268"
      ]
     },
     "metadata": {},
     "output_type": "display_data"
    },
    {
     "data": {},
     "metadata": {},
     "output_type": "display_data"
    },
    {
     "data": {},
     "metadata": {},
     "output_type": "display_data"
    },
    {
     "data": {
      "image/png": "[encoded data removed]",
      "text/plain": [
       "plot without title"
      ]
     },
     "metadata": {},
     "output_type": "display_data"
    },
    {
     "data": {
      "image/png": "[encoded data removed]",
      "text/plain": [
       "plot without title"
      ]
     },
     "metadata": {},
     "output_type": "display_data"
    }
   ],
   "source": [
    "# When a accuracy value is close to 0, a algorithm is more accurate\n",
    "accuracy = 100 - c(cm_RF,cm_KNN,cm_NB,cm_XGB,cm_XGB_KCV,cm_SVM,cm_SVM_KCV)\n",
    "accuracy_t = matrix(accuracy, nrow=1, ncol=7)\n",
    "colnames(accuracy_t) = c(\"RF\",\"KNN\",\"NB\",\"XGB\",\"XGB_KCV\",\"SVM\",\"SVM_KCV\")\n",
    "accuracy_t\n",
    "running_time = as.double(c(time_RF,time_KNN,time_NB,time_XGB,time_SVM))\n",
    "\n",
    "ac = data.frame(algorithms = c(\"RF\",\"KNN\",\"NB\",\"XGB\",\"XGB_KCV\",\"SVM\",\"SVM_KCV\"), accuracy)\n",
    "\n",
    "p <-ggplot(ac, aes(algorithms, accuracy))\n",
    "p +geom_bar(stat = \"identity\")\n",
    "\n",
    "pf = data.frame(algorithms = c(\"RF\",\"KNN\",\"NB\",\"XGB\",\"SVM\"),running_time)\n",
    "\n",
    "p2 <- ggplot(data = pf, aes(x = algorithms, y = running_time) )\n",
    "p2 + geom_bar(stat = \"identity\", fill = \"#FF6666\")\n",
    "\n"
   ]
  },
  {
   "cell_type": "markdown",
   "metadata": {},
   "source": [
    "## Summary\n",
    "\n",
    "When we adjust k-Fold Cross Validation, It shows better performance\n",
    "\n",
    "KNN, SVM, and SGB show similar accuracy but when we consider running time, it is better not to use SVM. \n",
    "\n",
    "XGB shows the best accuracy and the second shortest running time. So, in this data, XGB performs better in both ways!"
   ]
  }
 ],
 "metadata": {
  "kernelspec": {
   "display_name": "R",
   "language": "R",
   "name": "ir"
  },
  "language_info": {
   "codemirror_mode": "r",
   "file_extension": ".r",
   "mimetype": "text/x-r-source",
   "name": "R",
   "pygments_lexer": "r",
   "version": "3.4.3"
  }
 },
 "nbformat": 4,
 "nbformat_minor": 2
}
